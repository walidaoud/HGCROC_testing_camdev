{
 "cells": [
  {
   "cell_type": "code",
   "execution_count": null,
   "id": "ab5fde48",
   "metadata": {},
   "outputs": [],
   "source": [
    "import matplotlib.pyplot as plt\n",
    "import numpy as np\n",
    "import os\n",
    "import PIL\n",
    "import pathlib\n",
    "import glob\n",
    "\n",
    "import tensorflow as tf\n",
    "from tensorflow import keras\n",
    "from tensorflow.keras import layers\n",
    "from tensorflow.keras.models import Sequential\n",
    "\n",
    "print(tf.__version__)"
   ]
  },
  {
   "cell_type": "code",
   "execution_count": null,
   "id": "498df496",
   "metadata": {},
   "outputs": [],
   "source": [
    "data_dir='/Users/daoud/Desktop/HGCAL/HGCROC/HGCROC_image_dataset_Augmented'\n",
    "data_dir = pathlib.Path(data_dir)\n",
    "image_count = len(list(data_dir.glob('*/*.png')))\n",
    "print(image_count)"
   ]
  },
  {
   "cell_type": "code",
   "execution_count": null,
   "id": "78f1bea1",
   "metadata": {},
   "outputs": [],
   "source": [
    "acceptable = list(data_dir.glob('Acceptable/*'))\n",
    "PIL.Image.open(str(acceptable[0]))\n",
    "print (len(acceptable))"
   ]
  },
  {
   "cell_type": "code",
   "execution_count": null,
   "id": "898ba0f3",
   "metadata": {},
   "outputs": [],
   "source": [
    "empty = list(data_dir.glob('Empty/*'))\n",
    "PIL.Image.open(str(empty[0]))\n",
    "print (len(empty))"
   ]
  },
  {
   "cell_type": "code",
   "execution_count": null,
   "id": "c3703728",
   "metadata": {},
   "outputs": [],
   "source": [
    "flipped = list(data_dir.glob('Flipped/*'))\n",
    "PIL.Image.open(str(flipped[0]))"
   ]
  },
  {
   "cell_type": "code",
   "execution_count": null,
   "id": "6463ddf4",
   "metadata": {},
   "outputs": [],
   "source": [
    "mispositionned = list(data_dir.glob('Mispositionned/*'))\n",
    "PIL.Image.open(str(mispositionned[0]))"
   ]
  },
  {
   "cell_type": "code",
   "execution_count": null,
   "id": "be36360f",
   "metadata": {},
   "outputs": [],
   "source": [
    "one_on_top_of_another = list(data_dir.glob('One_on_top_of_another/*'))\n",
    "PIL.Image.open(str(one_on_top_of_another[0]))\n",
    "print (len(one_on_top_of_another))"
   ]
  },
  {
   "cell_type": "code",
   "execution_count": null,
   "id": "f935ad25",
   "metadata": {},
   "outputs": [],
   "source": [
    "batch_size = 32\n",
    "img_height = 100\n",
    "img_width = 180\n"
   ]
  },
  {
   "cell_type": "code",
   "execution_count": null,
   "id": "37b11859",
   "metadata": {},
   "outputs": [],
   "source": [
    "train_ds = tf.keras.utils.image_dataset_from_directory(\n",
    "  data_dir,\n",
    "  validation_split=0.2,\n",
    "  subset=\"training\",\n",
    "  seed=123,\n",
    "  image_size=(img_height, img_width),\n",
    "  batch_size=batch_size)\n"
   ]
  },
  {
   "cell_type": "code",
   "execution_count": null,
   "id": "857838cb",
   "metadata": {},
   "outputs": [],
   "source": [
    "val_ds = tf.keras.utils.image_dataset_from_directory(\n",
    "  data_dir,\n",
    "  validation_split=0.2,\n",
    "  subset=\"validation\",\n",
    "  seed=123,\n",
    "  image_size=(img_height, img_width),\n",
    "  batch_size=batch_size)\n"
   ]
  },
  {
   "cell_type": "code",
   "execution_count": null,
   "id": "37f85da4",
   "metadata": {},
   "outputs": [],
   "source": [
    "class_names = train_ds.class_names\n",
    "print(class_names)\n"
   ]
  },
  {
   "cell_type": "code",
   "execution_count": null,
   "id": "89d28dfb",
   "metadata": {},
   "outputs": [],
   "source": [
    "plt.figure(figsize=(10, 10))\n",
    "for images, labels in train_ds.take(1):\n",
    "  for i in range(9):\n",
    "    ax = plt.subplot(3, 3, i + 1)\n",
    "    plt.imshow(images[i].numpy().astype(\"uint8\"))\n",
    "    plt.title(class_names[labels[i]])\n",
    "    plt.axis(\"off\")\n"
   ]
  },
  {
   "cell_type": "code",
   "execution_count": null,
   "id": "93c4e424",
   "metadata": {},
   "outputs": [],
   "source": [
    "for image_batch, labels_batch in train_ds:\n",
    "  print(image_batch.shape)\n",
    "  print(labels_batch.shape)\n",
    "  break\n"
   ]
  },
  {
   "cell_type": "code",
   "execution_count": null,
   "id": "b2c2485f",
   "metadata": {},
   "outputs": [],
   "source": [
    "AUTOTUNE = tf.data.AUTOTUNE\n",
    "\n",
    "train_ds = train_ds.cache().shuffle(1000).prefetch(buffer_size=AUTOTUNE)\n",
    "val_ds = val_ds.cache().prefetch(buffer_size=AUTOTUNE)\n"
   ]
  },
  {
   "cell_type": "code",
   "execution_count": null,
   "id": "b553717a",
   "metadata": {},
   "outputs": [],
   "source": [
    "normalization_layer = layers.Rescaling(1./255)\n"
   ]
  },
  {
   "cell_type": "code",
   "execution_count": null,
   "id": "023f6d31",
   "metadata": {},
   "outputs": [],
   "source": [
    "num_classes = len(class_names)\n",
    "\n",
    "model = Sequential([\n",
    "  layers.Rescaling(1./255, input_shape=(img_height, img_width, 3)),\n",
    "  layers.Conv2D(16, 3, padding='same', activation='relu'),\n",
    "  layers.MaxPooling2D(),\n",
    "  layers.Conv2D(32, 3, padding='same', activation='relu'),\n",
    "  layers.MaxPooling2D(),\n",
    "  layers.Conv2D(64, 3, padding='same', activation='relu'),\n",
    "  layers.MaxPooling2D(),\n",
    "  layers.Flatten(),\n",
    "  layers.Dense(128, activation='relu'),\n",
    "  layers.Dense(num_classes)\n",
    "])"
   ]
  },
  {
   "cell_type": "code",
   "execution_count": null,
   "id": "25fee313",
   "metadata": {},
   "outputs": [],
   "source": [
    "model.compile(optimizer='adam',\n",
    "              loss=tf.keras.losses.SparseCategoricalCrossentropy(from_logits=True),\n",
    "              metrics=['accuracy'])\n"
   ]
  },
  {
   "cell_type": "code",
   "execution_count": null,
   "id": "ab6b80f7",
   "metadata": {},
   "outputs": [],
   "source": [
    "model.summary()"
   ]
  },
  {
   "cell_type": "code",
   "execution_count": null,
   "id": "6e03d348",
   "metadata": {
    "scrolled": false
   },
   "outputs": [],
   "source": [
    "epochs=50\n",
    "history = model.fit(\n",
    "  train_ds,\n",
    "  validation_data=val_ds,\n",
    "  epochs=epochs\n",
    ")\n"
   ]
  },
  {
   "cell_type": "code",
   "execution_count": null,
   "id": "bef1950c",
   "metadata": {
    "scrolled": false
   },
   "outputs": [],
   "source": [
    "acc = history.history['accuracy']\n",
    "val_acc = history.history['val_accuracy']\n",
    "\n",
    "loss = history.history['loss']\n",
    "val_loss = history.history['val_loss']\n",
    "\n",
    "epochs_range = range(epochs)\n",
    "\n",
    "plt.figure(figsize=(8, 8))\n",
    "plt.subplot(1, 2, 1)\n",
    "plt.plot(epochs_range, acc, label='Training Accuracy')\n",
    "plt.plot(epochs_range, val_acc, label='Validation Accuracy')\n",
    "plt.legend(loc='lower right')\n",
    "plt.title('Training and Validation Accuracy')\n",
    "\n",
    "plt.subplot(1, 2, 2)\n",
    "plt.plot(epochs_range, loss, label='Training Loss')\n",
    "plt.plot(epochs_range, val_loss, label='Validation Loss')\n",
    "plt.legend(loc='upper right')\n",
    "plt.title('Training and Validation Loss')\n",
    "plt.show()"
   ]
  },
  {
   "cell_type": "code",
   "execution_count": null,
   "id": "f05582fc",
   "metadata": {},
   "outputs": [],
   "source": [
    "def cropped_image(image):\n",
    "    #print(\"-> Cropped gray image\")\n",
    "    img_crop = image[350:590,260:730]\n",
    "    return img_crop"
   ]
  },
  {
   "cell_type": "code",
   "execution_count": null,
   "id": "62c318e2",
   "metadata": {
    "scrolled": false
   },
   "outputs": [],
   "source": [
    "from PIL import Image\n",
    "\n",
    "Validation_path = '/Users/daoud/Desktop/HGCAL/HGCROC/HGCROC images - all/Validation Pictures'\n",
    "\n",
    "plt.figure(figsize = (10,10))\n",
    "\n",
    "\n",
    "for image in os.listdir(Validation_path):\n",
    "\n",
    "\n",
    "    print(\"\\n\\n\\n=>Image initial name : \",image)\n",
    "    \n",
    "\n",
    "\n",
    "    #-----------------------------------------\n",
    "    img = tf.keras.utils.load_img(Validation_path+\"/\" + image )\n",
    "    \n",
    "    #print(img.size)\n",
    "    \n",
    "    \n",
    "    #Image cropped\n",
    "    left=280\n",
    "    right=750\n",
    "    top=350\n",
    "    bottom=590\n",
    "    img=img.crop((left, top, right, bottom)) \n",
    "    \n",
    "    size = 180, 100\n",
    "\n",
    "    img=img.resize(size)\n",
    "    #print(img.size)\n",
    "    \n",
    "    # Display cropped image\n",
    "    plt.imshow(img)\n",
    "    plt.axis('off')\n",
    "    plt.show() \n",
    "    \n",
    "    img_array = tf.keras.utils.img_to_array(img)\n",
    "    img_array = tf.expand_dims(img_array, 0) # Create a batch\n",
    "\n",
    "    predictions = model.predict(img_array)\n",
    "    score = tf.nn.softmax(predictions[0])\n",
    "    \n",
    "    print(\"SCORE : \",score)\n",
    "    print(\"Predicitons : \",predictions)\n",
    "    \n",
    "    print(\n",
    "        \"\\nThis image most likely belongs to {} with a {:.2f} percent confidence. \"\n",
    "        .format(class_names[np.argmax(score)], 100 * np.max(score))\n",
    "    )\n",
    "\n",
    "    print(\n",
    "        \"Cette photo appartient à la classe {} avec une confiance de {:.2f} % \"\n",
    "        .format(class_names[np.argmax(score)], 100 * np.max(score))\n",
    "    )"
   ]
  },
  {
   "cell_type": "code",
   "execution_count": null,
   "id": "58506334",
   "metadata": {},
   "outputs": [],
   "source": []
  }
 ],
 "metadata": {
  "kernelspec": {
   "display_name": "Python 3 (ipykernel)",
   "language": "python",
   "name": "python3"
  },
  "language_info": {
   "codemirror_mode": {
    "name": "ipython",
    "version": 3
   },
   "file_extension": ".py",
   "mimetype": "text/x-python",
   "name": "python",
   "nbconvert_exporter": "python",
   "pygments_lexer": "ipython3",
   "version": "3.9.12"
  }
 },
 "nbformat": 4,
 "nbformat_minor": 5
}
